{
 "cells": [
  {
   "cell_type": "markdown",
   "metadata": {},
   "source": [
    "# Web Mining and Applied NLP (44-620)\n",
    "\n",
    "## Requests, JSON, and NLP\n",
    "\n",
    "### Student Name: Jordan Wheeler\n",
    "### Github: https://github.com/jordanwheeler7/CSIS-44620-Module-4-json-sentiment\n",
    "### Course: CSIS 44620 WEB MINING & APPLIED NLP 80/81SU23 Module 4 Assignment\n",
    "\n",
    "Perform the tasks described in the Markdown cells below.  When you have completed the assignment make sure your code cells have all been run (and have output beneath them) and ensure you have committed and pushed ALL of your changes to your assignment repository.\n",
    "\n",
    "Make sure you have [installed spaCy and its pipeline](https://spacy.io/usage#quickstart) and [spaCyTextBlob](https://spacy.io/universe/project/spacy-textblob)\n",
    "\n",
    "Every question that requires you to write code will have a code cell underneath it; you may either write your entire solution in that cell or write it in a python file (`.py`), then import and run the appropriate code to answer the question.\n",
    "\n",
    "This assignment requires that you write additional files (either JSON or pickle files); make sure to submit those files in your repository as well."
   ]
  },
  {
   "cell_type": "markdown",
   "metadata": {},
   "source": [
    "# Question 1"
   ]
  },
  {
   "cell_type": "markdown",
   "metadata": {},
   "source": [
    "1. The following code accesses the [lyrics.ovh](https://lyricsovh.docs.apiary.io/#reference/0/lyrics-of-a-song/search) public api, searches for the lyrics of a song, and stores it in a dictionary object.  Write the resulting json to a file (either a JSON file or a pickle file; you choose). You will read in the contents of this file for future questions so we do not need to frequently access the API."
   ]
  },
  {
   "cell_type": "code",
   "execution_count": 1,
   "metadata": {},
   "outputs": [
    {
     "name": "stdout",
     "output_type": "stream",
     "text": [
      "All prereqs installed.\n",
      "Package            Version\n",
      "------------------ --------------------\n",
      "anyio              3.7.0\n",
      "appdirs            1.4.4\n",
      "asgiref            3.7.2\n",
      "asttokens          2.2.1\n",
      "backcall           0.2.0\n",
      "beautifulsoup4     4.12.2\n",
      "certifi            2023.5.7\n",
      "charset-normalizer 3.2.0\n",
      "click              8.1.3\n",
      "colorama           0.4.6\n",
      "comm               0.1.3\n",
      "contextvars        2.4\n",
      "debugpy            1.6.7\n",
      "decorator          5.1.1\n",
      "exceptiongroup     1.1.2\n",
      "executing          1.2.0\n",
      "h11                0.14.0\n",
      "htmltools          0.2.1\n",
      "idna               3.4\n",
      "immutables         0.19\n",
      "importlib-metadata 6.7.0\n",
      "ipykernel          6.24.0\n",
      "ipython            8.14.0\n",
      "ipywidgets         8.0.6\n",
      "jedi               0.18.2\n",
      "jupyter_client     8.3.0\n",
      "jupyter_core       5.3.1\n",
      "jupyterlab-widgets 3.0.7\n",
      "linkify-it-py      2.0.2\n",
      "lyricsgenius       3.0.1\n",
      "markdown-it-py     3.0.0\n",
      "matplotlib-inline  0.1.6\n",
      "mdit-py-plugins    0.4.0\n",
      "mdurl              0.1.2\n",
      "nest-asyncio       1.5.6\n",
      "packaging          23.1\n",
      "parso              0.8.3\n",
      "pickleshare        0.7.5\n",
      "pip                23.2\n",
      "platformdirs       3.8.0\n",
      "prompt-toolkit     3.0.38\n",
      "psutil             5.9.5\n",
      "pure-eval          0.2.2\n",
      "Pygments           2.15.1\n",
      "PyJWT              2.7.0\n",
      "python-dateutil    2.8.2\n",
      "python-multipart   0.0.6\n",
      "pywin32            306\n",
      "pyzmq              25.1.0\n",
      "requests           2.31.0\n",
      "rsconnect-python   1.18.1.dev4+g9e7314b\n",
      "semver             2.13.0\n",
      "setuptools         58.1.0\n",
      "shiny              0.4.0\n",
      "shinyswatch        0.2.4\n",
      "six                1.16.0\n",
      "sniffio            1.3.0\n",
      "soupsieve          2.4.1\n",
      "stack-data         0.6.2\n",
      "starlette          0.28.0\n",
      "tornado            6.3.2\n",
      "traitlets          5.9.0\n",
      "typing_extensions  4.7.1\n",
      "uc-micro-py        1.0.2\n",
      "urllib3            2.0.3\n",
      "uvicorn            0.22.0\n",
      "watchfiles         0.19.0\n",
      "wcwidth            0.2.6\n",
      "websockets         11.0.3\n",
      "wheel              0.40.0\n",
      "widgetsnbextension 4.0.7\n",
      "XStatic-bootswatch 3.3.7.0\n",
      "zipp               3.15.0\n"
     ]
    }
   ],
   "source": [
    "# Create and activate a Python virtual environment. \n",
    "# Before starting the project, try all these imports FIRST\n",
    "# Address any errors you get running this code cell \n",
    "# by installing the necessary packages into your active Python environment.\n",
    "# Try to resolve issues using your materials and the web.\n",
    "# If that doesn't work, ask for help in the discussion forums.\n",
    "# You can't complete the exercises until you import these - start early! \n",
    "# We also import json and pickle (included in the Python Standard Library).\n",
    "\n",
    "import json\n",
    "import pickle\n",
    "\n",
    "import requests\n",
    "import spacy\n",
    "from spacytextblob.spacytextblob import SpacyTextBlob\n",
    "\n",
    "\n",
    "\n",
    "print('All prereqs installed.')\n",
    "!pip list\n",
    "\n"
   ]
  },
  {
   "cell_type": "markdown",
   "metadata": {},
   "source": [
    "# Question 1"
   ]
  },
  {
   "cell_type": "markdown",
   "metadata": {},
   "source": [
    "The following code accesses the lyrics.ovh public api, searches for the lyrics of a song, and stores it in a dictionary object. Write the resulting json to a file (either a JSON file or a pickle file; you choose). You will read in the contents of this file for future questions so we do not need to frequently access the API."
   ]
  },
  {
   "cell_type": "code",
   "execution_count": 2,
   "metadata": {},
   "outputs": [
    {
     "name": "stdout",
     "output_type": "stream",
     "text": [
      "Searching for songs by They Might Be Giants...\n",
      "\n",
      "Song 1: \"200 Sbemails (for Homestar Runner)\"\n",
      "Song 2: \"2082\"\n",
      "Song 3: \"25 O’Clock\"\n",
      "\n",
      "Reached user-specified song limit (3).\n",
      "Done. Found 3 songs.\n",
      "[Song(id, artist, ...), Song(id, artist, ...), Song(id, artist, ...)]\n",
      "Searching for \"Biridhouse In Your Soul\" by They Might Be Giants...\n",
      "Done.\n"
     ]
    }
   ],
   "source": [
    "import requests\n",
    "import json\n",
    "\n",
    "# result = json.loads(requests.get('https://api.lyrics.ovh/v1/They Might Be Giants/Birdhouse in your soul').text)\n",
    "\n",
    "import lyricsgenius\n",
    "\n",
    "# Lyric Genius Object\n",
    "genius = lyricsgenius.Genius(\"rx2lKqQOFxH5NoWp0Boky27F4XGVPebC0hpUnmE-LJHcGMbH3CYz0EK6jBpJP7ot\")\n",
    "\n",
    "# Artist\n",
    "artist = genius.search_artist(\"They Might Be Giants\", max_songs=3, sort=\"title\")\n",
    "print(artist.songs)\n",
    "\n",
    "# Getting Song\n",
    "song = artist.song(\"Biridhouse In Your Soul\")\n",
    "\n",
    "# Saving Lyrics\n",
    "\n",
    "lyrics = song.lyrics\n",
    "\n",
    "# Dictionary\n",
    "song_dict = {\n",
    "    'artist': 'They Might Be Giants',\n",
    "    'title': 'Birdhouse In Your Soul',\n",
    "    'lyrics': lyrics \n",
    "}\n",
    "\n",
    "with open('birdhouse_lyrics.json', 'w') as new_file:\n",
    "    json.dump(song_dict, new_file)"
   ]
  },
  {
   "cell_type": "markdown",
   "metadata": {},
   "source": [
    "## Question 2"
   ]
  },
  {
   "cell_type": "markdown",
   "metadata": {},
   "source": [
    "2. Read in the contents of your file.  Print the lyrics of the song (not the entire dictionary!) and use spaCyTextBlob to perform sentiment analysis on the lyrics.  Print the polarity score of the sentiment analysis.  Given that the range of the polarity score is `[-1.0,1.0]` which corresponds to how positive or negative the text in question is, do you think the lyrics have a more positive or negative connotaion?  Answer this question in a comment in your code cell."
   ]
  },
  {
   "cell_type": "code",
   "execution_count": 3,
   "metadata": {},
   "outputs": [
    {
     "name": "stdout",
     "output_type": "stream",
     "text": [
      "Lyrics:\n",
      "52 ContributorsBirdhouse in Your Soul Lyrics[Bridge]\n",
      "I'm your only friend\n",
      "I'm not your only friend\n",
      "But I'm a little glowing friend\n",
      "But really I'm not actually your friend\n",
      "But I am\n",
      "\n",
      "[Chorus]\n",
      "Blue canary in the outlet by the light switch\n",
      "Who watches over you\n",
      "Make a little birdhouse in your soul\n",
      "Not to put too fine a point on it\n",
      "Say I'm the only bee in your bonnet\n",
      "Make a little birdhouse in your soul\n",
      "\n",
      "[Verse 1]\n",
      "I have a secret to tell\n",
      "From my electrical well\n",
      "It's a simple message and I'm\n",
      "Leaving out the whistles and bells\n",
      "So the room must listen to me\n",
      "Filibuster vigilantly\n",
      "My name is blue canary\n",
      "One note spelled l-i-t-e\n",
      "My story's infinite\n",
      "Like the Longines Symphonette\n",
      "It doesn't rest\n",
      "See They Might Be Giants LiveGet tickets as low as $60You might also like[Chorus]\n",
      "Blue canary in the outlet by the light switch\n",
      "Who watches over you\n",
      "Make a little birdhouse in your soul\n",
      "Not to put too fine a point on it\n",
      "Say I'm the only bee in your bonnet\n",
      "Make a little birdhouse in your soul\n",
      "\n",
      "[Bridge]\n",
      "I'm your only friend\n",
      "I'm not your only friend\n",
      "But I'm a little glowing friend\n",
      "But really I'm not actually your friend\n",
      "But I am\n",
      "\n",
      "[Verse 2]\n",
      "There's a picture opposite me\n",
      "Of my primitive ancestry\n",
      "Which stood on rocky shores\n",
      "And kept the beaches shipwreck-free\n",
      "Though I respect that a lot\n",
      "I'd be fired if that were my job\n",
      "After killing Jason off\n",
      "And countless screaming Argonauts\n",
      "Blue bird of friendliness\n",
      "Like guardian angels it's\n",
      "Always near\n",
      "[Chorus 2]\n",
      "Blue canary in the outlet by the light switch\n",
      "Who watches over you\n",
      "Make a little birdhouse in your soul\n",
      "Not to put too fine a point on it\n",
      "Say I'm the only bee in your bonnet\n",
      "Make a little birdhouse in your soul\n",
      "While you're at it\n",
      "Keep the nightlight on inside\n",
      "The birdhouse in your soul\n",
      "Not to put too fine a point on it\n",
      "Say I'm the only bee in your bonnet\n",
      "Make a little birdhouse in your soul\n",
      "While you're at it\n",
      "Keep the nightlight on inside\n",
      "The birdhouse in your soul\n",
      "(Blue canary in the outlet by the light switch\n",
      "Who watches over you\n",
      "Make a little birdhouse in your soul)\n",
      "Make a little birdhouse in your soul\n",
      "While you're at it\n",
      "Keep the nightlight on inside\n",
      "The birdhouse in your soul\n",
      "Not to put too fine a point on it\n",
      "Say I'm the only bee in your bonnet\n",
      "Make a little birdhouse in your soul19Embed\n"
     ]
    }
   ],
   "source": [
    "# Reading In File\n",
    "\n",
    "with open ('birdhouse_lyrics.json', 'r') as file:\n",
    "    lyric = json.load(file)\n",
    "\n",
    "lyrics = lyric[\"lyrics\"]\n",
    "\n",
    "print(\"Lyrics:\")\n",
    "print(lyrics)"
   ]
  },
  {
   "cell_type": "code",
   "execution_count": 6,
   "metadata": {},
   "outputs": [
    {
     "name": "stdout",
     "output_type": "stream",
     "text": [
      "Polarity Score:  0.02575757575757576\n"
     ]
    },
    {
     "data": {
      "text/plain": [
       "'\\nThe given polarity score is 0.02 which means that it is slightly more positive than neutral. Given the score is slightly over neutral,\\nI would have to rate this as neutral overall. After reading the lyrics, the bridge is very neutral. The lyrics do shade to a slightly more\\npositive tone but not enough to make the song receive a positive score.\\n'"
      ]
     },
     "execution_count": 6,
     "metadata": {},
     "output_type": "execute_result"
    }
   ],
   "source": [
    "# use spaCyTextBlob to perform sentiment analysis on the lyrics.  Print the polarity score of the sentiment analysis.  \n",
    "# Given that the range of the polarity score is `[-1.0,1.0]` which corresponds to how positive or negative the text in \n",
    "# question is, do you think the lyrics have a more positive or negative connotaion?\n",
    "# Answer this question in a comment in your code cell.\n",
    "\n",
    "import spacy\n",
    "from spacytextblob.spacytextblob import SpacyTextBlob\n",
    "\n",
    "# Loading Package\n",
    "\n",
    "nlp = spacy.load('en_core_web_sm')\n",
    "\n",
    "# Adding Pipe\n",
    "\n",
    "nlp.add_pipe('spacytextblob')\n",
    "\n",
    "# Lyric Process\n",
    "\n",
    "doc = nlp(lyrics)\n",
    "\n",
    "# Getting Sentiment\n",
    "\n",
    "print('Polarity Score: ', doc._.blob.polarity)\n",
    "\n",
    "\"\"\"\n",
    "The given polarity score is 0.02 which means that it is slightly more positive than neutral. Given the score is slightly over neutral,\n",
    "I would have to rate this as neutral overall. After reading the lyrics, the bridge is very neutral. The lyrics do shade to a slightly more\n",
    "positive tone but not enough to make the song receive a positive score.\n",
    "\"\"\""
   ]
  },
  {
   "cell_type": "markdown",
   "metadata": {},
   "source": [
    "## Question 3"
   ]
  },
  {
   "cell_type": "markdown",
   "metadata": {},
   "source": [
    "3. Write a function that takes an artist, song, and filename, accesses the lyrics.ovh api to get the song lyrics, and writes the results to the specified filename.  Test this function by getting the lyrics to any four songs of your choice and storing them in different files."
   ]
  },
  {
   "cell_type": "code",
   "execution_count": 7,
   "metadata": {},
   "outputs": [
    {
     "name": "stdout",
     "output_type": "stream",
     "text": [
      "Searching for songs by I Prevail...\n",
      "\n",
      "Song 1: \"Bow Down\"\n",
      "\n",
      "Reached user-specified song limit (1).\n",
      "Done. Found 1 songs.\n",
      "Searching for \"Blank Space\" by I Prevail...\n",
      "Done.\n",
      "Searching for songs by George Straight...\n",
      "\n",
      "Changing artist name to 'George Strait'\n",
      "Song 1: \"All My Ex’s Live in Texas\"\n",
      "\n",
      "Reached user-specified song limit (1).\n",
      "Done. Found 1 songs.\n",
      "Searching for \"Carrying Your Love with Me\" by George Strait...\n",
      "Done.\n",
      "Searching for songs by Brantley Gilbert...\n",
      "\n",
      "Song 1: \"The Weekend\"\n",
      "\n",
      "Reached user-specified song limit (1).\n",
      "Done. Found 1 songs.\n",
      "Searching for \"How To Talk To Girls\" by Brantley Gilbert...\n",
      "Done.\n",
      "Searching for songs by Morgan Wallen...\n",
      "\n",
      "Song 1: \"Don’t Think Jesus\"\n",
      "\n",
      "Reached user-specified song limit (1).\n",
      "Done. Found 1 songs.\n",
      "Searching for \"Still Goin' Down\" by Morgan Wallen...\n",
      "Done.\n"
     ]
    }
   ],
   "source": [
    "import lyricsgenius\n",
    "import json\n",
    "import os\n",
    "\n",
    "# Create Function\n",
    "\n",
    "def grab_lyrics(artist, song, filename):\n",
    "    access_token = 'rx2lKqQOFxH5NoWp0Boky27F4XGVPebC0hpUnmE-LJHcGMbH3CYz0EK6jBpJP7ot'\n",
    "    genius = lyricsgenius.Genius(access_token)\n",
    "    artist = genius.search_artist(artist, max_songs=1, get_full_info=False)\n",
    "    song = artist.song(song)\n",
    "    with open(filename+'_lyrics.json', 'w') as filename:\n",
    "        json.dump(song.lyrics, filename)\n",
    "        \n",
    "grab_lyrics(\"I Prevail\", \"Blank Space\", \"blank_space\")\n",
    "grab_lyrics(\"George Straight\", \"Carrying Your Love with Me\", \"carrying_your_love_with_me\")\n",
    "grab_lyrics(\"Brantley Gilbert\", \"How To Talk To Girls\", \"how_to_talk_to_girls\")\n",
    "grab_lyrics(\"Morgan Wallen\", \"Still Goin' Down\", \"still_goin_down\")"
   ]
  },
  {
   "cell_type": "markdown",
   "metadata": {},
   "source": [
    "## Question 4"
   ]
  },
  {
   "cell_type": "markdown",
   "metadata": {},
   "source": [
    "4. Write a function that takes the name of a file that contains song lyrics, loads the file, performs sentiment analysis, and returns the polarity score.  Use this function to print the polarity scores (with the name of the song) of the three files you created in question 3.  Does the reported polarity match your understanding of the song's lyrics? Why or why not do you think that might be?  Answer the questions in either a comment in the code cell or a markdown cell under the code cell."
   ]
  },
  {
   "cell_type": "code",
   "execution_count": 8,
   "metadata": {},
   "outputs": [
    {
     "name": "stdout",
     "output_type": "stream",
     "text": [
      "Polarity of blank_space_lyrics.json: -0.011368227731864081\n",
      "Polarity of carrying_your_love_with_me_lyrics.json: 0.30227743271221535\n",
      "Polarity of how_to_talk_to_girls_lyrics.json: 0.05751633986928104\n",
      "Polarity of still_goin_down_lyrics.json: -0.009675925925925937\n"
     ]
    }
   ],
   "source": [
    "import spacy\n",
    "from spacytextblob.spacytextblob import SpacyTextBlob\n",
    "import json\n",
    "\n",
    "def sentiment_analysis(filename):\n",
    "    nlp = spacy.load('en_core_web_sm')\n",
    "    nlp.add_pipe('spacytextblob')\n",
    "    with open(filename, 'r') as f:\n",
    "        lyrics = json.load(f)\n",
    "    doc = nlp(lyrics)\n",
    "    polarity = doc._.blob.polarity\n",
    "    \n",
    "    print(f'Polarity of {filename}: {polarity}')\n",
    "    \n",
    "sentiment_analysis('blank_space_lyrics.json')\n",
    "sentiment_analysis('carrying_your_love_with_me_lyrics.json')\n",
    "sentiment_analysis('how_to_talk_to_girls_lyrics.json')\n",
    "sentiment_analysis('still_goin_down_lyrics.json')"
   ]
  },
  {
   "cell_type": "markdown",
   "metadata": {},
   "source": [
    "#### I am kind of surprised by the results of the sentiment analysis.  Blank Space would have a slightly higher neagtive sentiment in my opinion.  However, I can see it being a more neutral song as well so the slight negative sentiment fits. How to talk to girls is definitley a more positive song. While the lyrics do not read that way, it is talking about how hard it is to speak to his wife and daughter because of how much they mean to him.  Still goin down is another one that I felt should be a positive.  I do not really agree that it even has a slightly negative sentiment so it surprises me that it was almost neutral.  Finally, Carrying Your Love With Me is aa love song.  It talks about how even though he may be gone, all he needs is the love of his signiificant other and everything is ok.  This song is a very positive song so I am a little shocked that it does not have a higher sentiment.  From how I take the lyrics, they are all positive."
   ]
  },
  {
   "cell_type": "code",
   "execution_count": null,
   "metadata": {},
   "outputs": [],
   "source": []
  }
 ],
 "metadata": {
  "kernelspec": {
   "display_name": "Python 3 (ipykernel)",
   "language": "python",
   "name": "python3"
  },
  "language_info": {
   "codemirror_mode": {
    "name": "ipython",
    "version": 3
   },
   "file_extension": ".py",
   "mimetype": "text/x-python",
   "name": "python",
   "nbconvert_exporter": "python",
   "pygments_lexer": "ipython3",
   "version": "3.9.15"
  }
 },
 "nbformat": 4,
 "nbformat_minor": 4
}
